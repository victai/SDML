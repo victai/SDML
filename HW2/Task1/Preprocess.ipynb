{
 "cells": [
  {
   "cell_type": "code",
   "execution_count": 1,
   "metadata": {},
   "outputs": [],
   "source": [
    "import pandas as pd\n",
    "import numpy as np\n",
    "import matplotlib.pyplot as plt\n",
    "%matplotlib inline\n",
    "%load_extautoreload\n",
    "%autoreload 2\n",
    "from collections import Counter\n",
    "import random\n",
    "#from utils import create_dataset"
   ]
  },
  {
   "cell_type": "code",
   "execution_count": 16,
   "metadata": {},
   "outputs": [
    {
     "name": "stdout",
     "output_type": "stream",
     "text": [
      "/bin/sh: 1: source: not found\r\n"
     ]
    }
   ],
   "source": [
    "!source /nfs/Sif/victai/pytorch_v4/bin/activate"
   ]
  },
  {
   "cell_type": "code",
   "execution_count": 2,
   "metadata": {},
   "outputs": [],
   "source": [
    "food_data = pd.read_csv(\"data/food.csv\")\n",
    "rating_data = pd.read_csv(\"data/rating_train.csv\")\n",
    "user_data = pd.read_csv(\"data/user.csv\")"
   ]
  },
  {
   "cell_type": "code",
   "execution_count": 3,
   "metadata": {},
   "outputs": [],
   "source": [
    "food_data.replace('-', np.nan, inplace=True)\n",
    "rating_data['date'] = rating_data['date'].str.replace('-','')"
   ]
  },
  {
   "cell_type": "code",
   "execution_count": 4,
   "metadata": {},
   "outputs": [],
   "source": [
    "user_ids = user_data['userid'].sort_values(axis=0).reset_index(drop=True)"
   ]
  },
  {
   "cell_type": "code",
   "execution_count": 5,
   "metadata": {},
   "outputs": [
    {
     "name": "stdout",
     "output_type": "stream",
     "text": [
      "          date  userid  foodid\n",
      "818   20140914       8     209\n",
      "819   20140914       8     210\n",
      "820   20140914       8      25\n",
      "821   20140914       8     211\n",
      "822   20140914       8     192\n",
      "823   20140914       8     212\n",
      "824   20140914       8      48\n",
      "825   20140914       8      67\n",
      "826   20140914       8     213\n",
      "827   20140914       8     125\n",
      "828   20140914       8     214\n",
      "829   20140914       8      39\n",
      "830   20140914       8     107\n",
      "831   20140914       8     215\n",
      "832   20140914       8     216\n",
      "833   20140914       8      61\n",
      "834   20140914       8     217\n",
      "835   20140914       8      22\n",
      "836   20140914       8     218\n",
      "837   20140915       8      25\n",
      "838   20140915       8     219\n",
      "839   20140915       8      25\n",
      "840   20140915       8     125\n",
      "841   20140915       8     220\n",
      "842   20140915       8      69\n",
      "843   20140915       8      22\n",
      "844   20140915       8     221\n",
      "845   20140915       8     222\n",
      "846   20140915       8     223\n",
      "847   20140915       8     224\n",
      "...        ...     ...     ...\n",
      "1838  20141117       8     228\n",
      "1839  20141117       8     324\n",
      "1840  20141117       8     162\n",
      "1841  20141117       8     230\n",
      "1842  20141118       8     210\n",
      "1843  20141118       8     162\n",
      "1844  20141118       8     230\n",
      "1845  20141118       8      22\n",
      "1846  20141118       8     341\n",
      "1847  20141118       8      19\n",
      "1848  20141118       8     349\n",
      "1849  20141118       8     217\n",
      "1850  20141118       8     290\n",
      "1851  20141118       8     271\n",
      "1852  20141118       8     245\n",
      "1853  20141118       8      42\n",
      "1854  20141118       8      19\n",
      "1855  20141119       8      34\n",
      "1856  20141119       8     266\n",
      "1857  20141119       8      25\n",
      "1858  20141119       8     125\n",
      "1859  20141119       8     327\n",
      "1860  20141119       8     350\n",
      "1861  20141119       8     102\n",
      "1862  20141119       8     341\n",
      "1863  20141119       8     350\n",
      "1864  20141119       8     107\n",
      "1865  20141119       8     351\n",
      "1866  20141119       8     104\n",
      "1867  20141119       8     352\n",
      "\n",
      "[1050 rows x 3 columns]\n"
     ]
    }
   ],
   "source": [
    "print(rating_data[rating_data['userid'] == 8])"
   ]
  },
  {
   "cell_type": "code",
   "execution_count": 6,
   "metadata": {},
   "outputs": [],
   "source": [
    "data_cnt = {}\n",
    "for i in user_ids:\n",
    "    data_cnt[i] = len(rating_data[rating_data['userid'] == i])"
   ]
  },
  {
   "cell_type": "code",
   "execution_count": 7,
   "metadata": {},
   "outputs": [
    {
     "data": {
      "text/plain": [
       "(array([323., 701., 512., 342., 274., 180., 110.,  65.,  35.,  38.,  13.,\n",
       "          3.,   7.,   4.,   0.,   0.,   0.,   0.,   0.,   1.]),\n",
       " array([ 194.  ,  462.75,  731.5 , 1000.25, 1269.  , 1537.75, 1806.5 ,\n",
       "        2075.25, 2344.  , 2612.75, 2881.5 , 3150.25, 3419.  , 3687.75,\n",
       "        3956.5 , 4225.25, 4494.  , 4762.75, 5031.5 , 5300.25, 5569.  ]),\n",
       " <a list of 20 Patch objects>)"
      ]
     },
     "execution_count": 7,
     "metadata": {},
     "output_type": "execute_result"
    },
    {
     "data": {
      "image/png": "[encoded data removed]",
      "text/plain": [
       "<matplotlib.figure.Figure at 0x7f182ce2ffd0>"
      ]
     },
     "metadata": {},
     "output_type": "display_data"
    }
   ],
   "source": [
    "plt.hist(list(data_cnt.values()), bins=20)\n",
    "#list(data_cnt.values())"
   ]
  },
  {
   "cell_type": "code",
   "execution_count": 8,
   "metadata": {},
   "outputs": [],
   "source": [
    "user_food_score = [{} for i in range(max(user_ids)+1)]\n",
    "for u, f in zip(rating_data['userid'], rating_data['foodid']):\n",
    "    if user_food_score[u].get(f) != None:\n",
    "        user_food_score[u][f] += 1\n",
    "    else:\n",
    "        user_food_score[u][f] = 1\n",
    "    \n",
    "for i in user_ids:\n",
    "    all_val = list(user_food_score[i].values())\n",
    "    for k, v in user_food_score[i].items():\n",
    "        user_food_score[i][k] = 1 + (v - min(all_val)) / (max(all_val) - min(all_val)) * 10"
   ]
  },
  {
   "cell_type": "code",
   "execution_count": 14,
   "metadata": {},
   "outputs": [
    {
     "name": "stdout",
     "output_type": "stream",
     "text": [
      "0.1.12_2\n"
     ]
    }
   ],
   "source": [
    "import torch\n",
    "import torch.nn as nn\n",
    "from torch.autograd import Variable\n",
    "\n",
    "class MatrixFactorization(nn.Module):\n",
    "    def __init__(self, n_users, n_foods, n_dim):\n",
    "        super(MatrixFactorization, self).__init__()\n",
    "        self.user_embed_layer = nn.Embedding(n_users, n_dim)\n",
    "        self.food_embed_layer = nn.Embedding(n_foods, n_dim)\n",
    "        \n",
    "    def forward(self, user_train, food_train):\n",
    "        user_vec = self.user_embed_layer(user_train)\n",
    "        food_vec = self.food_embed_layer(food_train)\n",
    "        return user_vec * food_vec\n",
    "\n",
    "n_dim = 32\n",
    "model = MatrixFactorization(len(user_ids), food_data.shape[0], n_dim)\n",
    "loss_func = nn.MSELoss()\n",
    "optimizer = torch.optim.Adam(model.parameters(), lr=0.001)"
   ]
  },
  {
   "cell_type": "code",
   "execution_count": 10,
   "metadata": {},
   "outputs": [],
   "source": [
    "def create_dataset(rating_data, valid_p):\n",
    "    user_train = []\n",
    "    user_valid = []\n",
    "    food_train = []\n",
    "    food_valid = []\n",
    "    Y_train = []\n",
    "    Y_valid = []\n",
    "    user_ids = pd.unique(rating_data['userid'])\n",
    "    np.sort(user_ids)\n",
    "    print(len(user_ids))\n",
    "    print(user_ids)\n",
    "    #user_ids = pd.unique(rating_data['userid']).sort_values(axis=0).reset_index(drop=True)\n",
    "    for u in user_ids:\n",
    "        current_user = rating_data[rating_data['userid'] == u]\n",
    "        #print(current_user)\n",
    "        #print(current_user['userid'])\n",
    "        #print(\"userid\", u)\n",
    "        #print(current_user['foodid'].iloc[0])\n",
    "        cnt = len(current_user) * (1 - valid_p)\n",
    "        for i in range(len(current_user)):\n",
    "            if i < cnt:\n",
    "                user_train.append(u)\n",
    "                #print(current_user['foodid'])\n",
    "                #print('i', i, current_user['foodid'][i])\n",
    "                food_train.append(current_user['foodid'].iloc[i])\n",
    "                Y_train.append(user_food_score[u][current_user['foodid'].iloc[i]])\n",
    "            else:\n",
    "                user_valid.append(u)\n",
    "                food_valid.append(current_user['foodid'].iloc[i])\n",
    "                Y_valid.append(user_food_score[u][current_user['foodid'].iloc[i]])\n",
    "            \n",
    "                \n",
    "    return user_train, user_valid, food_train, food_valid, Y_train, Y_valid"
   ]
  },
  {
   "cell_type": "code",
   "execution_count": 11,
   "metadata": {},
   "outputs": [
    {
     "name": "stdout",
     "output_type": "stream",
     "text": [
      "2608\n",
      "[   6    8   10 ... 9884 9885 9894]\n"
     ]
    }
   ],
   "source": [
    "valid_percentage = 0.1\n",
    "user_train, user_valid, food_train, food_valid, Y_train, Y_valid = create_dataset(rating_data, valid_percentage)\n",
    "\n",
    "order = np.arange(len(user_train))\n",
    "random.seed(0)\n",
    "random.shuffle(order)\n"
   ]
  },
  {
   "cell_type": "code",
   "execution_count": 12,
   "metadata": {},
   "outputs": [
    {
     "ename": "TypeError",
     "evalue": "'module' object is not callable",
     "output_type": "error",
     "traceback": [
      "\u001b[0;31m---------------------------------------------------------------------------\u001b[0m",
      "\u001b[0;31mTypeError\u001b[0m                                 Traceback (most recent call last)",
      "\u001b[0;32m<ipython-input-12-a30671e7bef2>\u001b[0m in \u001b[0;36m<module>\u001b[0;34m()\u001b[0m\n\u001b[1;32m      5\u001b[0m     \u001b[0;32mfor\u001b[0m \u001b[0mb\u001b[0m \u001b[0;32min\u001b[0m \u001b[0mrange\u001b[0m\u001b[0;34m(\u001b[0m\u001b[0mlen\u001b[0m\u001b[0;34m(\u001b[0m\u001b[0muser_train\u001b[0m\u001b[0;34m)\u001b[0m \u001b[0;34m//\u001b[0m \u001b[0mbatch_size\u001b[0m\u001b[0;34m)\u001b[0m\u001b[0;34m:\u001b[0m\u001b[0;34m\u001b[0m\u001b[0m\n\u001b[1;32m      6\u001b[0m         \u001b[0moptimizer\u001b[0m\u001b[0;34m.\u001b[0m\u001b[0mzero_grad\u001b[0m\u001b[0;34m(\u001b[0m\u001b[0;34m)\u001b[0m\u001b[0;34m\u001b[0m\u001b[0m\n\u001b[0;32m----> 7\u001b[0;31m         \u001b[0mu_train\u001b[0m \u001b[0;34m=\u001b[0m \u001b[0mVariable\u001b[0m\u001b[0;34m(\u001b[0m\u001b[0mtorch\u001b[0m\u001b[0;34m.\u001b[0m\u001b[0mtensor\u001b[0m\u001b[0;34m(\u001b[0m\u001b[0muser_train\u001b[0m\u001b[0;34m[\u001b[0m\u001b[0mb\u001b[0m\u001b[0;34m*\u001b[0m\u001b[0mbatch_size\u001b[0m\u001b[0;34m:\u001b[0m \u001b[0;34m(\u001b[0m\u001b[0mb\u001b[0m\u001b[0;34m+\u001b[0m\u001b[0;36m1\u001b[0m\u001b[0;34m)\u001b[0m\u001b[0;34m*\u001b[0m\u001b[0mbatch_size\u001b[0m\u001b[0;34m]\u001b[0m\u001b[0;34m)\u001b[0m\u001b[0;34m)\u001b[0m\u001b[0;34m\u001b[0m\u001b[0m\n\u001b[0m\u001b[1;32m      8\u001b[0m         \u001b[0mf_train\u001b[0m \u001b[0;34m=\u001b[0m \u001b[0mVariable\u001b[0m\u001b[0;34m(\u001b[0m\u001b[0mtorch\u001b[0m\u001b[0;34m.\u001b[0m\u001b[0mtensor\u001b[0m\u001b[0;34m(\u001b[0m\u001b[0mfood_train\u001b[0m\u001b[0;34m[\u001b[0m\u001b[0mb\u001b[0m\u001b[0;34m*\u001b[0m\u001b[0mbatch_size\u001b[0m\u001b[0;34m:\u001b[0m \u001b[0;34m(\u001b[0m\u001b[0mb\u001b[0m\u001b[0;34m+\u001b[0m\u001b[0;36m1\u001b[0m\u001b[0;34m)\u001b[0m\u001b[0;34m*\u001b[0m\u001b[0mbatch_size\u001b[0m\u001b[0;34m]\u001b[0m\u001b[0;34m)\u001b[0m\u001b[0;34m)\u001b[0m\u001b[0;34m\u001b[0m\u001b[0m\n\u001b[1;32m      9\u001b[0m \u001b[0;34m\u001b[0m\u001b[0m\n",
      "\u001b[0;31mTypeError\u001b[0m: 'module' object is not callable"
     ]
    }
   ],
   "source": [
    "epochs = 1000\n",
    "batch_size = 1024\n",
    "for e in range(epochs):\n",
    "    t_loss = 0\n",
    "    for b in range(len(user_train) // batch_size):\n",
    "        optimizer.zero_grad()\n",
    "        u_train = Variable(torch.tensor(user_train[b*batch_size: (b+1)*batch_size]))\n",
    "        f_train = Variable(torch.tensor(food_train[b*batch_size: (b+1)*batch_size]))\n",
    "        \n",
    "        pred = model(u_train, f_train)\n",
    "        loss = loss_func(pred, Y_train[b*batch_size: (b+1)*batch_size])\n",
    "        t_loss += loss\n",
    "        loss.backward()\n",
    "        optimizer.step()\n",
    "    t_loss /= (len(user_train) // batch_size)\n",
    "    \n",
    "    # validation\n",
    "    v_pred = model(user_valid, food_valid)\n",
    "    v_loss = loss_func(v_pred, Y_valid)\n",
    "    \n",
    "    print(\"Epoch %d, train_loss = %f, valid_loss = %f\"%(e, t_loss, v_loss))"
   ]
  }
 ],
 "metadata": {
  "kernelspec": {
   "display_name": "Python 3",
   "language": "python",
   "name": "python3"
  },
  "language_info": {
   "codemirror_mode": {
    "name": "ipython",
    "version": 3
   },
   "file_extension": ".py",
   "mimetype": "text/x-python",
   "name": "python",
   "nbconvert_exporter": "python",
   "pygments_lexer": "ipython3",
   "version": "3.5.2"
  }
 },
 "nbformat": 4,
 "nbformat_minor": 2
}
