{
 "cells": [
  {
   "cell_type": "code",
   "execution_count": 2,
   "metadata": {},
   "outputs": [],
   "source": [
    "import pandas as pd\n",
    "import numpy as np\n",
    "import matplotlib.pyplot as plt\n",
    "%matplotlib inline\n",
    "%load_ext autoreload\n",
    "%autoreload 2\n",
    "from collections import Counter\n",
    "import random\n",
    "from utils import load_model, save_checkpoint\n",
    "from pyfm import pylibfm\n",
    "from fastFM import als\n",
    "from sklearn.feature_extraction import DictVectorizer\n",
    "import time"
   ]
  },
  {
   "cell_type": "markdown",
   "metadata": {},
   "source": [
    "## PreProcess"
   ]
  },
  {
   "cell_type": "code",
   "execution_count": 3,
   "metadata": {
    "scrolled": true
   },
   "outputs": [
    {
     "name": "stderr",
     "output_type": "stream",
     "text": [
      "/home/victai/.local/lib/python3.5/site-packages/ipykernel_launcher.py:16: SettingWithCopyWarning: \n",
      "A value is trying to be set on a copy of a slice from a DataFrame\n",
      "\n",
      "See the caveats in the documentation: http://pandas.pydata.org/pandas-docs/stable/indexing.html#indexing-view-versus-copy\n",
      "  app.launch_new_instance()\n"
     ]
    }
   ],
   "source": [
    "food_data = pd.read_csv(\"data/food.csv\")\n",
    "rating_data = pd.read_csv(\"data/rating_train.csv\")\n",
    "user_data = pd.read_csv(\"data/user.csv\")\n",
    "food_data.replace('-', np.nan, inplace=True)\n",
    "rating_data[['year', 'month', 'day']] = rating_data['date'].str.split('-', expand=True)\n",
    "rating_data['date'] = rating_data['date'].str.replace('-','')\n",
    "user_ids = user_data['userid'].sort_values(axis=0).reset_index(drop=True).values.tolist()\n",
    "user_data.fillna(0, inplace=True)\n",
    "user_data['age'] = user_data['age'].apply(lambda x: x//5)\n",
    "user_data['age'] = user_data['age'].apply(lambda x: x/7)\n",
    "user_data['mapped_userid'] = user_data['userid'].apply(lambda x: user_ids.index(x))\n",
    "\n",
    "food_data.drop(['annotated_food_name'], axis=1, inplace=True)\n",
    "for h in list(food_data):\n",
    "    if h.endswith('cat'):\n",
    "        food_data[h][food_data[h].notnull()] = 1\n",
    "food_data.fillna(0, inplace=True)"
   ]
  },
  {
   "cell_type": "code",
   "execution_count": 4,
   "metadata": {},
   "outputs": [],
   "source": [
    "rating_data['mapped_userid'] = rating_data['userid'].apply(lambda x: user_ids.index(x))"
   ]
  },
  {
   "cell_type": "code",
   "execution_count": 5,
   "metadata": {
    "scrolled": true
   },
   "outputs": [],
   "source": [
    "#v = DictVectorizer()\n",
    "user_features = user_data.drop(['userid', 'username', 'location', 'city', 'state', 'title', 'about_me', 'reasons', 'inspirations', 'friends_count'], axis=1).sort_values(by='mapped_userid').values\n",
    "user_feature_list = ['age', 'gender', 'mapped_userid']\n",
    "user_features[:,2] = user_features[:,2].astype(str)\n",
    "user_features = [{k:v for k, v in zip(user_feature_list, u)} for u in user_features]\n",
    "#print(v.fit_transform(user_features).shape)\n",
    "#transformed_user_features = v.fit_transform(transformed_user_features).toarray()\n",
    "\n",
    "#food_features = food_data.drop(list(food_data.filter(regex=\".*_q\")), axis=1)\n",
    "#food_features = food_features.drop(list(food_data.filter(regex=\".*cat\")), axis = 1)\n",
    "#food_features = food_features.drop(list(food_data.filter(regex=\".*_unit\")), axis=1)\n",
    "#food_features = food_features.drop(['foodid'], axis=1)\n",
    "food_features = food_data['foodid']\n",
    "food_feature_list = list(food_features)\n",
    "food_features = food_features.values.astype(str)\n",
    "food_features = [{\"foodid\": f} for f in food_features]\n",
    "#print(v.fit_transform(food_features).shape)\n",
    "#food_features = [{k:v for k, v in zip(food_feature_list, f)} for f in food_features]\n",
    "#transformed_food_features = v.fit_transform(transformed_food_features).toarray()"
   ]
  },
  {
   "cell_type": "markdown",
   "metadata": {},
   "source": [
    "data_cnt = {}\n",
    "for i in user_ids:\n",
    "    data_cnt[i] = len(rating_data[rating_data['userid'] == i])\n",
    "\n",
    "#plt.hist(list(data_cnt.values()), bins=20)\n",
    "#list(data_cnt.values())"
   ]
  },
  {
   "cell_type": "code",
   "execution_count": 5,
   "metadata": {},
   "outputs": [],
   "source": [
    "user_food_score = [{} for i in range(len(user_ids))]\n",
    "for u, f in zip(rating_data['mapped_userid'], rating_data['foodid']):\n",
    "    if user_food_score[u].get(f) != None:\n",
    "        user_food_score[u][f] += 1\n",
    "    else:\n",
    "        user_food_score[u][f] = 1\n",
    "    \n",
    "for i in range(len(user_ids)):\n",
    "    all_val = list(user_food_score[i].values())\n",
    "    for k, v in user_food_score[i].items():\n",
    "        user_food_score[i][k] = (v - min(all_val)) / (max(all_val) - min(all_val))"
   ]
  },
  {
   "cell_type": "code",
   "execution_count": 6,
   "metadata": {},
   "outputs": [],
   "source": [
    "def create_dataset(rating_data, valid_p, use_features=False):\n",
    "    user_id_train = []\n",
    "    user_id_valid = []\n",
    "    food_id_train = []\n",
    "    food_id_valid = []\n",
    "    food_feature_train = []\n",
    "    food_feature_valid = []\n",
    "    user_feature_train = []\n",
    "    user_feature_valid = []\n",
    "    Y_train = []\n",
    "    Y_valid = []\n",
    "    np.sort(user_ids)\n",
    "    for u in range(len(user_ids)):\n",
    "        current_user = rating_data[rating_data['mapped_userid'] == u]\n",
    "        cnt = int(len(current_user) * (1 - valid_p))\n",
    "        user_id_train.extend(current_user['mapped_userid'].iloc[:cnt])\n",
    "        food_id_train.extend(current_user['foodid'].iloc[:cnt])\n",
    "        user_id_valid.extend(current_user['mapped_userid'].iloc[cnt:])\n",
    "        food_id_valid.extend(current_user['foodid'].iloc[cnt:])\n",
    "        for i in range(len(current_user)):\n",
    "            if i < cnt:\n",
    "                Y_train.append(1)#user_food_score[u][current_user['foodid'].iloc[i]])\n",
    "            else:\n",
    "                Y_valid.append(1)#user_food_score[u][current_user['foodid'].iloc[i]])\n",
    "  \n",
    "    if use_features:\n",
    "        for f in food_id_train:\n",
    "            food_feature_train.append(food_features[f])\n",
    "        for f in food_id_valid:\n",
    "            food_feature_valid.append(food_features[f])\n",
    "        for u in user_id_train:\n",
    "            user_feature_train.append(user_features[u])\n",
    "        for u in user_id_valid:\n",
    "            user_feature_valid.append(user_features[u])\n",
    "    \n",
    "        return  np.array(user_id_train), np.array(user_id_valid), \\\n",
    "                np.array(food_id_train), np.array(food_id_valid), \\\n",
    "                np.array(food_feature_train), np.array(food_feature_valid), \\\n",
    "                np.array(user_feature_train), np.array(user_feature_valid), \\\n",
    "                np.array(Y_train), np.array(Y_valid)\n",
    "    else:\n",
    "        return  np.array(user_id_train), np.array(user_id_valid), \\\n",
    "                np.array(food_id_train), np.array(food_id_valid), \\\n",
    "                np.array(Y_train), np.array(Y_valid)"
   ]
  },
  {
   "cell_type": "code",
   "execution_count": 7,
   "metadata": {},
   "outputs": [],
   "source": [
    "valid_percentage = 0.0\n",
    "user_id_train, user_id_valid, food_id_train, food_id_valid, food_feature_train, food_feature_valid, user_feature_train, user_feature_valid, Y_train, Y_valid = create_dataset(rating_data, valid_percentage, True)\n",
    "#user_id_train, user_id_valid, food_id_train, food_id_valid, Y_train, Y_valid = create_dataset(rating_data, valid_percentage, False)\n",
    "\n",
    "#order = np.arange(len(user_id_train))\n",
    "#random.seed(0)\n",
    "#random.shuffle(order)"
   ]
  },
  {
   "cell_type": "code",
   "execution_count": 8,
   "metadata": {},
   "outputs": [],
   "source": [
    "not_eaten = {}\n",
    "eaten = {}\n",
    "for u in range(len(user_ids)):\n",
    "    t_start_idx = np.where(user_id_train == u)[0][0]\n",
    "    t_end_idx = np.where(user_id_train == u)[0][-1]\n",
    "    v_start_idx = np.where(user_id_valid == u)[0][0]\n",
    "    v_end_idx = np.where(user_id_valid == u)[0][-1]\n",
    "    #tmp = []\n",
    "    #for i in range(v_start_idx, v_end_idx+1):\n",
    "        #if (food_id_valid[i] not in food_id_train[t_start_idx: t_end_idx+1]) and (food_id_valid[i] not in tmp):\n",
    "        #    tmp.append(food_id_valid[i])\n",
    "    #print(u)\n",
    "    #print(t_end_idx)\n",
    "    not_eaten[u] = np.setdiff1d(food_id_valid[v_start_idx: v_end_idx+1], food_id_train[t_start_idx: t_end_idx+1])\n",
    "    eaten[u] = set(food_id_train[t_start_idx: t_end_idx+1])"
   ]
  },
  {
   "cell_type": "code",
   "execution_count": 12,
   "metadata": {},
   "outputs": [],
   "source": [
    "ALL = []\n",
    "for u in range(len(user_ids)):\n",
    "    U = [user_features[u] for i in range(len(food_data))]\n",
    "    F = [food_features[f] for f in range(len(food_data))]\n",
    "    test_data = [{**x, **y} for x, y in list(zip(U, F))]\n",
    "    ALL.extend(test_data)"
   ]
  },
  {
   "cell_type": "code",
   "execution_count": 13,
   "metadata": {},
   "outputs": [
    {
     "name": "stdout",
     "output_type": "stream",
     "text": [
      "({'gender': 'Female', 'mapped_userid': '0', 'age': 1.2857142857142858}, {'foodid': '0'})\n"
     ]
    }
   ],
   "source": [
    "v = DictVectorizer()\n",
    "print(list(zip(user_feature_train, food_feature_train))[0])\n",
    "train_data = [{**x, **y} for x, y in list(zip(user_feature_train, food_feature_train))]\n",
    "train_data.extend(ALL)\n",
    "train_data = v.fit_transform(train_data)\n",
    "train_data = train_data[:-len(ALL)]\n",
    "\n",
    "#valid_data = [{**x, **y} for x, y in list(zip(user_feature_valid, food_feature_valid))]\n",
    "#valid_data.extend(ALL)\n",
    "#valid_data = v.fit_transform(valid_data)\n",
    "#valid_data = valid_data[:-len(ALL)]"
   ]
  },
  {
   "cell_type": "markdown",
   "metadata": {},
   "source": [
    "#fm = pylibfm.FM(num_factors=10, num_iter=100, verbose=True, task=\"regression\", initial_learning_rate=0.001, learning_rate_schedule=\"optimal\")\n",
    "fm = als.FMRegression(n_iter=1000, init_stdev=0.1, rank=10, l2_reg_w=0.1, l2_reg_V=0.5)\n",
    "fm.fit(train_data, Y_train)\n",
    "res = fm.predict(train_data)"
   ]
  },
  {
   "cell_type": "code",
   "execution_count": 16,
   "metadata": {},
   "outputs": [],
   "source": [
    "def AveragePrecision(user_not_eaten, prediction, cnt):\n",
    "    if len(user_not_eaten) == 0: return 0\n",
    "    score = 0\n",
    "    hit = 0\n",
    "    for i, p in enumerate(prediction):\n",
    "        if p in user_not_eaten:\n",
    "            hit += 1\n",
    "            score += hit / (i+1)\n",
    "    score /= len(user_not_eaten)\n",
    "    return score"
   ]
  },
  {
   "cell_type": "code",
   "execution_count": 21,
   "metadata": {},
   "outputs": [],
   "source": [
    "eaten_mat = np.zeros((len(user_ids), len(rating_data.foodid.drop_duplicates())))\n",
    "for i, j in zip(user_id_train, food_id_train):\n",
    "    eaten_mat[i][j] = 1"
   ]
  },
  {
   "cell_type": "code",
   "execution_count": 27,
   "metadata": {},
   "outputs": [
    {
     "name": "stdout",
     "output_type": "stream",
     "text": [
      "iter 1; time: 54.45\n",
      "iter 2; time: 57.88\n",
      "iter 3; time: 57.09\n",
      "iter 4; time: 56.19\n",
      "iter 5; time: 55.62\n",
      "iter 6; time: 73.37\n",
      "iter 7; time: 80.64\n",
      "iter 8; time: 79.05\n",
      "iter 9; time: 71.82\n",
      "iter 10; time: 61.75\n",
      "iter 11; time: 55.23\n",
      "iter 12; time: 56.01\n",
      "iter 13; time: 54.87\n",
      "iter 14; time: 57.36\n",
      "iter 15; time: 55.77\n",
      "iter 16; time: 75.78\n",
      "iter 17; time: 72.80\n",
      "iter 18; time: 71.17\n",
      "iter 19; time: 64.04\n",
      "iter 20; time: 82.67\n"
     ]
    },
    {
     "ename": "ValueError",
     "evalue": "x and y must have same first dimension, but have shapes (20,) and (0,)",
     "output_type": "error",
     "traceback": [
      "\u001b[0;31m---------------------------------------------------------------------------\u001b[0m",
      "\u001b[0;31mValueError\u001b[0m                                Traceback (most recent call last)",
      "\u001b[0;32m<ipython-input-27-ae0fc937649f>\u001b[0m in \u001b[0;36m<module>\u001b[0;34m()\u001b[0m\n\u001b[1;32m     50\u001b[0m \u001b[0mx\u001b[0m \u001b[0;34m=\u001b[0m \u001b[0mnp\u001b[0m\u001b[0;34m.\u001b[0m\u001b[0marange\u001b[0m\u001b[0;34m(\u001b[0m\u001b[0;36m1\u001b[0m\u001b[0;34m,\u001b[0m \u001b[0mn_iter\u001b[0m\u001b[0;34m+\u001b[0m\u001b[0;36m1\u001b[0m\u001b[0;34m)\u001b[0m \u001b[0;34m*\u001b[0m \u001b[0mstep_size\u001b[0m\u001b[0;34m\u001b[0m\u001b[0m\n\u001b[1;32m     51\u001b[0m \u001b[0;32mwith\u001b[0m \u001b[0mplt\u001b[0m\u001b[0;34m.\u001b[0m\u001b[0mstyle\u001b[0m\u001b[0;34m.\u001b[0m\u001b[0mcontext\u001b[0m\u001b[0;34m(\u001b[0m\u001b[0;34m'fivethirtyeight'\u001b[0m\u001b[0;34m)\u001b[0m\u001b[0;34m:\u001b[0m\u001b[0;34m\u001b[0m\u001b[0m\n\u001b[0;32m---> 52\u001b[0;31m     \u001b[0maxes\u001b[0m\u001b[0;34m[\u001b[0m\u001b[0;36m0\u001b[0m\u001b[0;34m]\u001b[0m\u001b[0;34m.\u001b[0m\u001b[0mplot\u001b[0m\u001b[0;34m(\u001b[0m\u001b[0mx\u001b[0m\u001b[0;34m,\u001b[0m \u001b[0mrmse_train\u001b[0m\u001b[0;34m,\u001b[0m \u001b[0mlabel\u001b[0m\u001b[0;34m=\u001b[0m\u001b[0;34m'RMSE-train'\u001b[0m\u001b[0;34m,\u001b[0m \u001b[0mcolor\u001b[0m\u001b[0;34m=\u001b[0m\u001b[0;34m'r'\u001b[0m\u001b[0;34m,\u001b[0m \u001b[0mls\u001b[0m\u001b[0;34m=\u001b[0m\u001b[0;34m\"--\"\u001b[0m\u001b[0;34m)\u001b[0m\u001b[0;34m\u001b[0m\u001b[0m\n\u001b[0m\u001b[1;32m     53\u001b[0m     \u001b[0maxes\u001b[0m\u001b[0;34m[\u001b[0m\u001b[0;36m0\u001b[0m\u001b[0;34m]\u001b[0m\u001b[0;34m.\u001b[0m\u001b[0mplot\u001b[0m\u001b[0;34m(\u001b[0m\u001b[0mx\u001b[0m\u001b[0;34m,\u001b[0m \u001b[0mrmse_valid\u001b[0m\u001b[0;34m,\u001b[0m \u001b[0mlabel\u001b[0m\u001b[0;34m=\u001b[0m\u001b[0;34m'RMSE-valid'\u001b[0m\u001b[0;34m,\u001b[0m \u001b[0mcolor\u001b[0m\u001b[0;34m=\u001b[0m\u001b[0;34m'r'\u001b[0m\u001b[0;34m)\u001b[0m\u001b[0;34m\u001b[0m\u001b[0m\n\u001b[1;32m     54\u001b[0m     \u001b[0maxes\u001b[0m\u001b[0;34m[\u001b[0m\u001b[0;36m1\u001b[0m\u001b[0;34m]\u001b[0m\u001b[0;34m.\u001b[0m\u001b[0mplot\u001b[0m\u001b[0;34m(\u001b[0m\u001b[0mx\u001b[0m\u001b[0;34m,\u001b[0m \u001b[0mr2_score_train\u001b[0m\u001b[0;34m,\u001b[0m \u001b[0mlabel\u001b[0m\u001b[0;34m=\u001b[0m\u001b[0;34m'R^2-train'\u001b[0m\u001b[0;34m,\u001b[0m \u001b[0mcolor\u001b[0m\u001b[0;34m=\u001b[0m\u001b[0;34m'b'\u001b[0m\u001b[0;34m,\u001b[0m \u001b[0mls\u001b[0m\u001b[0;34m=\u001b[0m\u001b[0;34m\"--\"\u001b[0m\u001b[0;34m)\u001b[0m\u001b[0;34m\u001b[0m\u001b[0m\n",
      "\u001b[0;32m/usr/local/lib/python3.5/dist-packages/matplotlib/__init__.py\u001b[0m in \u001b[0;36minner\u001b[0;34m(ax, *args, **kwargs)\u001b[0m\n\u001b[1;32m   1896\u001b[0m                     warnings.warn(msg % (label_namer, func.__name__),\n\u001b[1;32m   1897\u001b[0m                                   RuntimeWarning, stacklevel=2)\n\u001b[0;32m-> 1898\u001b[0;31m             \u001b[0;32mreturn\u001b[0m \u001b[0mfunc\u001b[0m\u001b[0;34m(\u001b[0m\u001b[0max\u001b[0m\u001b[0;34m,\u001b[0m \u001b[0;34m*\u001b[0m\u001b[0margs\u001b[0m\u001b[0;34m,\u001b[0m \u001b[0;34m**\u001b[0m\u001b[0mkwargs\u001b[0m\u001b[0;34m)\u001b[0m\u001b[0;34m\u001b[0m\u001b[0m\n\u001b[0m\u001b[1;32m   1899\u001b[0m         \u001b[0mpre_doc\u001b[0m \u001b[0;34m=\u001b[0m \u001b[0minner\u001b[0m\u001b[0;34m.\u001b[0m\u001b[0m__doc__\u001b[0m\u001b[0;34m\u001b[0m\u001b[0m\n\u001b[1;32m   1900\u001b[0m         \u001b[0;32mif\u001b[0m \u001b[0mpre_doc\u001b[0m \u001b[0;32mis\u001b[0m \u001b[0;32mNone\u001b[0m\u001b[0;34m:\u001b[0m\u001b[0;34m\u001b[0m\u001b[0m\n",
      "\u001b[0;32m/usr/local/lib/python3.5/dist-packages/matplotlib/axes/_axes.py\u001b[0m in \u001b[0;36mplot\u001b[0;34m(self, *args, **kwargs)\u001b[0m\n\u001b[1;32m   1404\u001b[0m         \u001b[0mkwargs\u001b[0m \u001b[0;34m=\u001b[0m \u001b[0mcbook\u001b[0m\u001b[0;34m.\u001b[0m\u001b[0mnormalize_kwargs\u001b[0m\u001b[0;34m(\u001b[0m\u001b[0mkwargs\u001b[0m\u001b[0;34m,\u001b[0m \u001b[0m_alias_map\u001b[0m\u001b[0;34m)\u001b[0m\u001b[0;34m\u001b[0m\u001b[0m\n\u001b[1;32m   1405\u001b[0m \u001b[0;34m\u001b[0m\u001b[0m\n\u001b[0;32m-> 1406\u001b[0;31m         \u001b[0;32mfor\u001b[0m \u001b[0mline\u001b[0m \u001b[0;32min\u001b[0m \u001b[0mself\u001b[0m\u001b[0;34m.\u001b[0m\u001b[0m_get_lines\u001b[0m\u001b[0;34m(\u001b[0m\u001b[0;34m*\u001b[0m\u001b[0margs\u001b[0m\u001b[0;34m,\u001b[0m \u001b[0;34m**\u001b[0m\u001b[0mkwargs\u001b[0m\u001b[0;34m)\u001b[0m\u001b[0;34m:\u001b[0m\u001b[0;34m\u001b[0m\u001b[0m\n\u001b[0m\u001b[1;32m   1407\u001b[0m             \u001b[0mself\u001b[0m\u001b[0;34m.\u001b[0m\u001b[0madd_line\u001b[0m\u001b[0;34m(\u001b[0m\u001b[0mline\u001b[0m\u001b[0;34m)\u001b[0m\u001b[0;34m\u001b[0m\u001b[0m\n\u001b[1;32m   1408\u001b[0m             \u001b[0mlines\u001b[0m\u001b[0;34m.\u001b[0m\u001b[0mappend\u001b[0m\u001b[0;34m(\u001b[0m\u001b[0mline\u001b[0m\u001b[0;34m)\u001b[0m\u001b[0;34m\u001b[0m\u001b[0m\n",
      "\u001b[0;32m/usr/local/lib/python3.5/dist-packages/matplotlib/axes/_base.py\u001b[0m in \u001b[0;36m_grab_next_args\u001b[0;34m(self, *args, **kwargs)\u001b[0m\n\u001b[1;32m    405\u001b[0m                 \u001b[0;32mreturn\u001b[0m\u001b[0;34m\u001b[0m\u001b[0m\n\u001b[1;32m    406\u001b[0m             \u001b[0;32mif\u001b[0m \u001b[0mlen\u001b[0m\u001b[0;34m(\u001b[0m\u001b[0mremaining\u001b[0m\u001b[0;34m)\u001b[0m \u001b[0;34m<=\u001b[0m \u001b[0;36m3\u001b[0m\u001b[0;34m:\u001b[0m\u001b[0;34m\u001b[0m\u001b[0m\n\u001b[0;32m--> 407\u001b[0;31m                 \u001b[0;32mfor\u001b[0m \u001b[0mseg\u001b[0m \u001b[0;32min\u001b[0m \u001b[0mself\u001b[0m\u001b[0;34m.\u001b[0m\u001b[0m_plot_args\u001b[0m\u001b[0;34m(\u001b[0m\u001b[0mremaining\u001b[0m\u001b[0;34m,\u001b[0m \u001b[0mkwargs\u001b[0m\u001b[0;34m)\u001b[0m\u001b[0;34m:\u001b[0m\u001b[0;34m\u001b[0m\u001b[0m\n\u001b[0m\u001b[1;32m    408\u001b[0m                     \u001b[0;32myield\u001b[0m \u001b[0mseg\u001b[0m\u001b[0;34m\u001b[0m\u001b[0m\n\u001b[1;32m    409\u001b[0m                 \u001b[0;32mreturn\u001b[0m\u001b[0;34m\u001b[0m\u001b[0m\n",
      "\u001b[0;32m/usr/local/lib/python3.5/dist-packages/matplotlib/axes/_base.py\u001b[0m in \u001b[0;36m_plot_args\u001b[0;34m(self, tup, kwargs)\u001b[0m\n\u001b[1;32m    383\u001b[0m             \u001b[0mx\u001b[0m\u001b[0;34m,\u001b[0m \u001b[0my\u001b[0m \u001b[0;34m=\u001b[0m \u001b[0mindex_of\u001b[0m\u001b[0;34m(\u001b[0m\u001b[0mtup\u001b[0m\u001b[0;34m[\u001b[0m\u001b[0;34m-\u001b[0m\u001b[0;36m1\u001b[0m\u001b[0;34m]\u001b[0m\u001b[0;34m)\u001b[0m\u001b[0;34m\u001b[0m\u001b[0m\n\u001b[1;32m    384\u001b[0m \u001b[0;34m\u001b[0m\u001b[0m\n\u001b[0;32m--> 385\u001b[0;31m         \u001b[0mx\u001b[0m\u001b[0;34m,\u001b[0m \u001b[0my\u001b[0m \u001b[0;34m=\u001b[0m \u001b[0mself\u001b[0m\u001b[0;34m.\u001b[0m\u001b[0m_xy_from_xy\u001b[0m\u001b[0;34m(\u001b[0m\u001b[0mx\u001b[0m\u001b[0;34m,\u001b[0m \u001b[0my\u001b[0m\u001b[0;34m)\u001b[0m\u001b[0;34m\u001b[0m\u001b[0m\n\u001b[0m\u001b[1;32m    386\u001b[0m \u001b[0;34m\u001b[0m\u001b[0m\n\u001b[1;32m    387\u001b[0m         \u001b[0;32mif\u001b[0m \u001b[0mself\u001b[0m\u001b[0;34m.\u001b[0m\u001b[0mcommand\u001b[0m \u001b[0;34m==\u001b[0m \u001b[0;34m'plot'\u001b[0m\u001b[0;34m:\u001b[0m\u001b[0;34m\u001b[0m\u001b[0m\n",
      "\u001b[0;32m/usr/local/lib/python3.5/dist-packages/matplotlib/axes/_base.py\u001b[0m in \u001b[0;36m_xy_from_xy\u001b[0;34m(self, x, y)\u001b[0m\n\u001b[1;32m    242\u001b[0m         \u001b[0;32mif\u001b[0m \u001b[0mx\u001b[0m\u001b[0;34m.\u001b[0m\u001b[0mshape\u001b[0m\u001b[0;34m[\u001b[0m\u001b[0;36m0\u001b[0m\u001b[0;34m]\u001b[0m \u001b[0;34m!=\u001b[0m \u001b[0my\u001b[0m\u001b[0;34m.\u001b[0m\u001b[0mshape\u001b[0m\u001b[0;34m[\u001b[0m\u001b[0;36m0\u001b[0m\u001b[0;34m]\u001b[0m\u001b[0;34m:\u001b[0m\u001b[0;34m\u001b[0m\u001b[0m\n\u001b[1;32m    243\u001b[0m             raise ValueError(\"x and y must have same first dimension, but \"\n\u001b[0;32m--> 244\u001b[0;31m                              \"have shapes {} and {}\".format(x.shape, y.shape))\n\u001b[0m\u001b[1;32m    245\u001b[0m         \u001b[0;32mif\u001b[0m \u001b[0mx\u001b[0m\u001b[0;34m.\u001b[0m\u001b[0mndim\u001b[0m \u001b[0;34m>\u001b[0m \u001b[0;36m2\u001b[0m \u001b[0;32mor\u001b[0m \u001b[0my\u001b[0m\u001b[0;34m.\u001b[0m\u001b[0mndim\u001b[0m \u001b[0;34m>\u001b[0m \u001b[0;36m2\u001b[0m\u001b[0;34m:\u001b[0m\u001b[0;34m\u001b[0m\u001b[0m\n\u001b[1;32m    246\u001b[0m             raise ValueError(\"x and y can be no greater than 2-D, but have \"\n",
      "\u001b[0;31mValueError\u001b[0m: x and y must have same first dimension, but have shapes (20,) and (0,)"
     ]
    },
    {
     "data": {
      "image/png": "[encoded data removed]",
      "text/plain": [
       "<matplotlib.figure.Figure at 0x7f6066b36cf8>"
      ]
     },
     "metadata": {},
     "output_type": "display_data"
    }
   ],
   "source": [
    "from sklearn.metrics import mean_squared_error, r2_score\n",
    "n_iter = 20\n",
    "step_size = 1\n",
    "\n",
    "fm = als.FMRegression(n_iter=0, l2_reg_w=0.0, l2_reg_V=0.0, rank=20)\n",
    "# Allocates and initalizes the model parameter.\n",
    "fm.fit(train_data, Y_train)\n",
    "\n",
    "rmse_train = []\n",
    "rmse_valid = []\n",
    "r2_score_train = []\n",
    "r2_score_valid = []\n",
    "ap_valid = []\n",
    "max_food = rating_data.foodid.max()+1\n",
    "for it in range(1, n_iter+1):\n",
    "    start_time = time.time()\n",
    "    fm.fit(train_data, Y_train, n_more_iter=step_size)\n",
    "   \n",
    "    all_test = v.fit_transform(ALL)\n",
    "    all_res = fm.predict(all_test)\n",
    "    all_score = []\n",
    "    if it == n_iter:\n",
    "        all_ans = []\n",
    "        for u in range(len(user_ids)):\n",
    "            ans = []\n",
    "            res = all_res[u*max_food: (u+1)*max_food]\n",
    "\n",
    "            res = res.flatten()\n",
    "            ordered_res = np.argsort(-res)\n",
    "            filtered_res = [i for i in ordered_res if eaten_mat[u][i] == 0]\n",
    "            #print(ans)\n",
    "            #print(not_eaten[u])\n",
    "            #print(\"===============================\")\n",
    "            #all_score.append(AveragePrecision(not_eaten[u], ans, 20))\n",
    "            all_ans.append(filtered_res[:20])\n",
    "\n",
    "    #ap_valid.append(np.array(all_score).mean())\n",
    "    \n",
    "    #rmse_train.append(np.sqrt(mean_squared_error(fm.predict(train_data), Y_train)))\n",
    "    #rmse_valid.append(np.sqrt(mean_squared_error(fm.predict(valid_data), Y_valid)))\n",
    "\n",
    "    #r2_score_train.append(r2_score(fm.predict(train_data), Y_train))\n",
    "    #r2_score_valid.append(r2_score(fm.predict(valid_data), Y_valid))\n",
    "    print(\"iter {0}; time: {1:.2f}\".format(it, time.time()-start_time))\n",
    "\n",
    "\n",
    "from matplotlib import pyplot as plt\n",
    "fig, axes = plt.subplots(ncols=3, figsize=(15, 4))\n",
    "\n",
    "x = np.arange(1, n_iter+1) * step_size\n",
    "with plt.style.context('fivethirtyeight'):\n",
    "    axes[0].plot(x, rmse_train, label='RMSE-train', color='r', ls=\"--\")\n",
    "    axes[0].plot(x, rmse_valid, label='RMSE-valid', color='r')\n",
    "    axes[1].plot(x, r2_score_train, label='R^2-train', color='b', ls=\"--\")\n",
    "    axes[1].plot(x, r2_score_valid, label='R^2-valid', color='b')\n",
    "    axes[2].plot(x, ap_valid, label='ap-valid', color='g')\n",
    "axes[0].set_ylabel('RMSE', color='r')\n",
    "axes[1].set_ylabel('R^2', color='b')\n",
    "axes[2].set_ylabel('ap', color='g')\n",
    "axes[0].legend()\n",
    "axes[1].legend()\n",
    "axes[2].legend()"
   ]
  },
  {
   "cell_type": "code",
   "execution_count": 29,
   "metadata": {},
   "outputs": [
    {
     "data": {
      "text/plain": [
       "(2608, 20)"
      ]
     },
     "execution_count": 29,
     "metadata": {},
     "output_type": "execute_result"
    }
   ],
   "source": [
    "np.array(all_ans).shape"
   ]
  },
  {
   "cell_type": "markdown",
   "metadata": {},
   "source": [
    "## Inference"
   ]
  },
  {
   "cell_type": "markdown",
   "metadata": {},
   "source": [
    "all_ans = []\n",
    "all_score = []\n",
    "all_test = []\n",
    "all_test = v.fit_transform(ALL)\n",
    "all_res = fm.predict(all_test)\n",
    "for i, u in enumerate((user_ids)):\n",
    "    ans = []\n",
    "    res = all_res[i*len(user_ids): (i+1)*len(user_ids)]\n",
    "    \n",
    "    res = res.flatten()\n",
    "    D = {k: v for (k, v) in zip(np.arange(len(food_data), dtype=int), res)}\n",
    "    sorted_D = sorted(D.items(), key=lambda d: d[1], reverse=True)\n",
    "    for x in sorted_D:\n",
    "        if len(ans) >= 20: break\n",
    "        if x[0] in user_food_score[u].keys():\n",
    "            continue\n",
    "        ans.append(x[0])\n",
    "    all_score.append(AveragePrecision(not_eaten[u], ans, 20))\n",
    "    all_ans.append(ans) "
   ]
  },
  {
   "cell_type": "code",
   "execution_count": null,
   "metadata": {},
   "outputs": [],
   "source": [
    "np.array(all_score).max()"
   ]
  },
  {
   "cell_type": "markdown",
   "metadata": {},
   "source": [
    "## Generate Output"
   ]
  },
  {
   "cell_type": "code",
   "execution_count": 30,
   "metadata": {},
   "outputs": [],
   "source": [
    "with open(\"pred.csv\", 'w') as f:\n",
    "    f.write(\"userid,foodid\\n\")\n",
    "    for i in range(len(user_ids)):\n",
    "        f.write(\"{},\".format(user_ids[i]))\n",
    "        for j in all_ans[i]:\n",
    "            f.write(\"{} \".format(j))\n",
    "        f.write('\\n')"
   ]
  }
 ],
 "metadata": {
  "kernelspec": {
   "display_name": "Python 3",
   "language": "python",
   "name": "python3"
  }
 },
 "nbformat": 4,
 "nbformat_minor": 2
}
