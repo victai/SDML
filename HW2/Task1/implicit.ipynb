{
 "cells": [
  {
   "cell_type": "code",
   "execution_count": 1,
   "metadata": {},
   "outputs": [],
   "source": [
    "import pandas as pd\n",
    "import numpy as np\n",
    "import matplotlib.pyplot as plt\n",
    "%matplotlib inline\n",
    "%load_ext autoreload\n",
    "%autoreload 2\n",
    "from collections import Counter\n",
    "import random\n",
    "from utils import load_model, save_checkpoint\n",
    "from pyfm import pylibfm\n",
    "from fastFM import als\n",
    "from sklearn.feature_extraction import DictVectorizer\n",
    "import time\n",
    "from scipy.sparse import csr_matrix, coo_matrix"
   ]
  },
  {
   "cell_type": "code",
   "execution_count": 2,
   "metadata": {},
   "outputs": [],
   "source": [
    "import implicit"
   ]
  },
  {
   "cell_type": "markdown",
   "metadata": {},
   "source": [
    "## PreProcess"
   ]
  },
  {
   "cell_type": "code",
   "execution_count": 3,
   "metadata": {
    "scrolled": true
   },
   "outputs": [
    {
     "name": "stderr",
     "output_type": "stream",
     "text": [
      "/home/victai/.local/lib/python3.5/site-packages/ipykernel_launcher.py:16: SettingWithCopyWarning: \n",
      "A value is trying to be set on a copy of a slice from a DataFrame\n",
      "\n",
      "See the caveats in the documentation: http://pandas.pydata.org/pandas-docs/stable/indexing.html#indexing-view-versus-copy\n",
      "  app.launch_new_instance()\n"
     ]
    }
   ],
   "source": [
    "food_data = pd.read_csv(\"data/food.csv\")\n",
    "rating_data = pd.read_csv(\"data/rating_train.csv\")\n",
    "user_data = pd.read_csv(\"data/user.csv\")\n",
    "food_data.replace('-', np.nan, inplace=True)\n",
    "rating_data[['year', 'month', 'day']] = rating_data['date'].str.split('-', expand=True)\n",
    "rating_data['date'] = rating_data['date'].str.replace('-','')\n",
    "user_ids = user_data['userid'].sort_values(axis=0).reset_index(drop=True).values.tolist()\n",
    "user_data.fillna(0, inplace=True)\n",
    "user_data['age'] = user_data['age'].apply(lambda x: x//5)\n",
    "user_data['age'] = user_data['age'].apply(lambda x: x/7)\n",
    "user_data['mapped_userid'] = user_data['userid'].apply(lambda x: user_ids.index(x))\n",
    "\n",
    "food_data.drop(['annotated_food_name'], axis=1, inplace=True)\n",
    "for h in list(food_data):\n",
    "    if h.endswith('cat'):\n",
    "        food_data[h][food_data[h].notnull()] = 1\n",
    "food_data.fillna(0, inplace=True)"
   ]
  },
  {
   "cell_type": "code",
   "execution_count": 4,
   "metadata": {},
   "outputs": [],
   "source": [
    "rating_data['mapped_userid'] = rating_data['userid'].apply(lambda x: user_ids.index(x))"
   ]
  },
  {
   "cell_type": "code",
   "execution_count": 9,
   "metadata": {
    "scrolled": true
   },
   "outputs": [],
   "source": [
    "#v = DictVectorizer()\n",
    "user_features = user_data.drop(['userid', 'username', 'location', 'city', 'state', 'title', 'about_me', 'reasons', 'inspirations', 'friends_count'], axis=1).sort_values(by='mapped_userid').values\n",
    "user_feature_list = ['age', 'gender', 'mapped_userid']\n",
    "user_features[:,2] = user_features[:,2].astype(str)\n",
    "user_features = [{k:v for k, v in zip(user_feature_list, u)} for u in user_features]\n",
    "#print(v.fit_transform(user_features).shape)\n",
    "#transformed_user_features = v.fit_transform(transformed_user_features).toarray()\n",
    "\n",
    "#food_features = food_data.drop(list(food_data.filter(regex=\".*_q\")), axis=1)\n",
    "#food_features = food_features.drop(list(food_data.filter(regex=\".*cat\")), axis = 1)\n",
    "#food_features = food_features.drop(list(food_data.filter(regex=\".*_unit\")), axis=1)\n",
    "#food_features = food_features.drop(['foodid'], axis=1)\n",
    "food_features = food_data['foodid']\n",
    "food_feature_list = list(food_features)\n",
    "food_features = food_features.values.astype(str)\n",
    "food_features = [{\"foodid\": f} for f in food_features]\n",
    "#print(v.fit_transform(food_features).shape)\n",
    "#food_features = [{k:v for k, v in zip(food_feature_list, f)} for f in food_features]\n",
    "#transformed_food_features = v.fit_transform(transformed_food_features).toarray()"
   ]
  },
  {
   "cell_type": "markdown",
   "metadata": {},
   "source": [
    "data_cnt = {}\n",
    "for i in user_ids:\n",
    "    data_cnt[i] = len(rating_data[rating_data['userid'] == i])\n",
    "\n",
    "#plt.hist(list(data_cnt.values()), bins=20)\n",
    "#list(data_cnt.values())"
   ]
  },
  {
   "cell_type": "code",
   "execution_count": 5,
   "metadata": {},
   "outputs": [],
   "source": [
    "user_food_score = [{} for i in range(len(user_ids))]\n",
    "for u, f in zip(rating_data['mapped_userid'], rating_data['foodid']):\n",
    "    if user_food_score[u].get(f) != None:\n",
    "        user_food_score[u][f] += 1\n",
    "    else:\n",
    "        user_food_score[u][f] = 1\n",
    "    \n",
    "for i in range(len(user_ids)):\n",
    "    all_val = list(user_food_score[i].values())\n",
    "    for k, v in user_food_score[i].items():\n",
    "        user_food_score[i][k] = (v - min(all_val)) / (max(all_val) - min(all_val))"
   ]
  },
  {
   "cell_type": "code",
   "execution_count": 6,
   "metadata": {},
   "outputs": [],
   "source": [
    "def create_dataset(rating_data, valid_p, use_features=False):\n",
    "    user_id_train = []\n",
    "    user_id_valid = []\n",
    "    food_id_train = []\n",
    "    food_id_valid = []\n",
    "    food_feature_train = []\n",
    "    food_feature_valid = []\n",
    "    user_feature_train = []\n",
    "    user_feature_valid = []\n",
    "    Y_train = []\n",
    "    Y_valid = []\n",
    "    np.sort(user_ids)\n",
    "    for u in range(len(user_ids)):\n",
    "        current_user = rating_data[rating_data['mapped_userid'] == u]\n",
    "        cnt = int(len(current_user) * (1 - valid_p))\n",
    "        user_id_train.extend(current_user['mapped_userid'].iloc[:cnt])\n",
    "        food_id_train.extend(current_user['foodid'].iloc[:cnt])\n",
    "        user_id_valid.extend(current_user['mapped_userid'].iloc[cnt:])\n",
    "        food_id_valid.extend(current_user['foodid'].iloc[cnt:])\n",
    "        for i in range(len(current_user)):\n",
    "            if i < cnt:\n",
    "                Y_train.append(user_food_score[u][current_user['foodid'].iloc[i]])\n",
    "            else:\n",
    "                Y_valid.append(user_food_score[u][current_user['foodid'].iloc[i]])\n",
    "  \n",
    "    if use_features:\n",
    "        for f in food_id_train:\n",
    "            food_feature_train.append(food_features[f])\n",
    "        for f in food_id_valid:\n",
    "            food_feature_valid.append(food_features[f])\n",
    "        for u in user_id_train:\n",
    "            user_feature_train.append(user_features[u])\n",
    "        for u in user_id_valid:\n",
    "            user_feature_valid.append(user_features[u])\n",
    "    \n",
    "        return  np.array(user_id_train), np.array(user_id_valid), \\\n",
    "                np.array(food_id_train), np.array(food_id_valid), \\\n",
    "                np.array(food_feature_train), np.array(food_feature_valid), \\\n",
    "                np.array(user_feature_train), np.array(user_feature_valid), \\\n",
    "                np.array(Y_train), np.array(Y_valid)\n",
    "    else:\n",
    "        return  np.array(user_id_train), np.array(user_id_valid), \\\n",
    "                np.array(food_id_train), np.array(food_id_valid), \\\n",
    "                np.array(Y_train), np.array(Y_valid)"
   ]
  },
  {
   "cell_type": "code",
   "execution_count": 134,
   "metadata": {},
   "outputs": [],
   "source": [
    "valid_percentage = 0.0\n",
    "#user_id_train, user_id_valid, food_id_train, food_id_valid, food_feature_train, food_feature_valid, user_feature_train, user_feature_valid, Y_train, Y_valid = create_dataset(rating_data, valid_percentage, True)\n",
    "user_id_train, user_id_valid, food_id_train, food_id_valid, Y_train, Y_valid = create_dataset(rating_data, valid_percentage, False)"
   ]
  },
  {
   "cell_type": "code",
   "execution_count": 136,
   "metadata": {},
   "outputs": [
    {
     "data": {
      "text/plain": [
       "(2681494,)"
      ]
     },
     "execution_count": 136,
     "metadata": {},
     "output_type": "execute_result"
    }
   ],
   "source": [
    "user_id_train.shape"
   ]
  },
  {
   "cell_type": "code",
   "execution_count": 149,
   "metadata": {},
   "outputs": [
    {
     "data": {
      "text/plain": [
       "False"
      ]
     },
     "execution_count": 149,
     "metadata": {},
     "output_type": "execute_result"
    }
   ],
   "source": [
    "212 in list(rating_data[(rating_data.mapped_userid == 0)].foodid)"
   ]
  },
  {
   "cell_type": "code",
   "execution_count": 137,
   "metadata": {},
   "outputs": [],
   "source": [
    "train_data = np.zeros((rating_data.foodid.max()+1, rating_data.mapped_userid.max()+1))\n",
    "for i, j in zip(food_id_train, user_id_train):\n",
    "    train_data[i][j] = 1"
   ]
  },
  {
   "cell_type": "code",
   "execution_count": 138,
   "metadata": {},
   "outputs": [],
   "source": [
    "train_sp = csr_matrix(train_data)"
   ]
  },
  {
   "cell_type": "code",
   "execution_count": 143,
   "metadata": {},
   "outputs": [
    {
     "ename": "IndexError",
     "evalue": "index 0 is out of bounds for axis 0 with size 0",
     "output_type": "error",
     "traceback": [
      "\u001b[0;31m---------------------------------------------------------------------------\u001b[0m",
      "\u001b[0;31mIndexError\u001b[0m                                Traceback (most recent call last)",
      "\u001b[0;32m<ipython-input-143-00c268371fe1>\u001b[0m in \u001b[0;36m<module>\u001b[0;34m()\u001b[0m\n\u001b[1;32m      4\u001b[0m     \u001b[0mt_start_idx\u001b[0m \u001b[0;34m=\u001b[0m \u001b[0mnp\u001b[0m\u001b[0;34m.\u001b[0m\u001b[0mwhere\u001b[0m\u001b[0;34m(\u001b[0m\u001b[0muser_id_train\u001b[0m \u001b[0;34m==\u001b[0m \u001b[0mu\u001b[0m\u001b[0;34m)\u001b[0m\u001b[0;34m[\u001b[0m\u001b[0;36m0\u001b[0m\u001b[0;34m]\u001b[0m\u001b[0;34m[\u001b[0m\u001b[0;36m0\u001b[0m\u001b[0;34m]\u001b[0m\u001b[0;34m\u001b[0m\u001b[0m\n\u001b[1;32m      5\u001b[0m     \u001b[0mt_end_idx\u001b[0m \u001b[0;34m=\u001b[0m \u001b[0mnp\u001b[0m\u001b[0;34m.\u001b[0m\u001b[0mwhere\u001b[0m\u001b[0;34m(\u001b[0m\u001b[0muser_id_train\u001b[0m \u001b[0;34m==\u001b[0m \u001b[0mu\u001b[0m\u001b[0;34m)\u001b[0m\u001b[0;34m[\u001b[0m\u001b[0;36m0\u001b[0m\u001b[0;34m]\u001b[0m\u001b[0;34m[\u001b[0m\u001b[0;34m-\u001b[0m\u001b[0;36m1\u001b[0m\u001b[0;34m]\u001b[0m\u001b[0;34m\u001b[0m\u001b[0m\n\u001b[0;32m----> 6\u001b[0;31m     \u001b[0mv_start_idx\u001b[0m \u001b[0;34m=\u001b[0m \u001b[0mnp\u001b[0m\u001b[0;34m.\u001b[0m\u001b[0mwhere\u001b[0m\u001b[0;34m(\u001b[0m\u001b[0muser_id_valid\u001b[0m \u001b[0;34m==\u001b[0m \u001b[0mu\u001b[0m\u001b[0;34m)\u001b[0m\u001b[0;34m[\u001b[0m\u001b[0;36m0\u001b[0m\u001b[0;34m]\u001b[0m\u001b[0;34m[\u001b[0m\u001b[0;36m0\u001b[0m\u001b[0;34m]\u001b[0m\u001b[0;34m\u001b[0m\u001b[0m\n\u001b[0m\u001b[1;32m      7\u001b[0m     \u001b[0mv_end_idx\u001b[0m \u001b[0;34m=\u001b[0m \u001b[0mnp\u001b[0m\u001b[0;34m.\u001b[0m\u001b[0mwhere\u001b[0m\u001b[0;34m(\u001b[0m\u001b[0muser_id_valid\u001b[0m \u001b[0;34m==\u001b[0m \u001b[0mu\u001b[0m\u001b[0;34m)\u001b[0m\u001b[0;34m[\u001b[0m\u001b[0;36m0\u001b[0m\u001b[0;34m]\u001b[0m\u001b[0;34m[\u001b[0m\u001b[0;34m-\u001b[0m\u001b[0;36m1\u001b[0m\u001b[0;34m]\u001b[0m\u001b[0;34m\u001b[0m\u001b[0m\n\u001b[1;32m      8\u001b[0m     \u001b[0mnot_eaten\u001b[0m\u001b[0;34m[\u001b[0m\u001b[0mu\u001b[0m\u001b[0;34m]\u001b[0m \u001b[0;34m=\u001b[0m \u001b[0mnp\u001b[0m\u001b[0;34m.\u001b[0m\u001b[0msetdiff1d\u001b[0m\u001b[0;34m(\u001b[0m\u001b[0mfood_id_valid\u001b[0m\u001b[0;34m[\u001b[0m\u001b[0mv_start_idx\u001b[0m\u001b[0;34m:\u001b[0m \u001b[0mv_end_idx\u001b[0m\u001b[0;34m+\u001b[0m\u001b[0;36m1\u001b[0m\u001b[0;34m]\u001b[0m\u001b[0;34m,\u001b[0m \u001b[0mfood_id_train\u001b[0m\u001b[0;34m[\u001b[0m\u001b[0mt_start_idx\u001b[0m\u001b[0;34m:\u001b[0m \u001b[0mt_end_idx\u001b[0m\u001b[0;34m+\u001b[0m\u001b[0;36m1\u001b[0m\u001b[0;34m]\u001b[0m\u001b[0;34m)\u001b[0m\u001b[0;34m\u001b[0m\u001b[0m\n",
      "\u001b[0;31mIndexError\u001b[0m: index 0 is out of bounds for axis 0 with size 0"
     ]
    }
   ],
   "source": [
    "not_eaten = {}\n",
    "eaten = {}\n",
    "for u in range(len(user_ids)):\n",
    "    t_start_idx = np.where(user_id_train == u)[0][0]\n",
    "    t_end_idx = np.where(user_id_train == u)[0][-1]\n",
    "    v_start_idx = np.where(user_id_valid == u)[0][0]\n",
    "    v_end_idx = np.where(user_id_valid == u)[0][-1]\n",
    "    not_eaten[u] = np.setdiff1d(food_id_valid[v_start_idx: v_end_idx+1], food_id_train[t_start_idx: t_end_idx+1])\n",
    "    eaten[u] = set(food_id_train[t_start_idx: t_end_idx+1])"
   ]
  },
  {
   "cell_type": "code",
   "execution_count": 106,
   "metadata": {},
   "outputs": [],
   "source": [
    "def AveragePrecision(user_not_eaten, prediction, cnt):\n",
    "    if len(user_not_eaten) == 0: return 0\n",
    "    score = 0\n",
    "    hit = 0\n",
    "    for i, p in enumerate(prediction):\n",
    "        if p in user_not_eaten:\n",
    "            hit += 1\n",
    "            score += hit / (i+1)\n",
    "    score /= len(user_not_eaten)\n",
    "    return score"
   ]
  },
  {
   "cell_type": "code",
   "execution_count": 155,
   "metadata": {},
   "outputs": [
    {
     "name": "stderr",
     "output_type": "stream",
     "text": [
      "WARNING:implicit:GPU training requires factor size to be a multiple of 32. Increasing factors from 20 to 32.\n",
      "100%|██████████| 20.0/20 [00:00<00:00, 81.57it/s, loss=0.0253]\n"
     ]
    }
   ],
   "source": [
    "from sklearn.metrics import mean_squared_error, r2_score\n",
    "ap_valid = []\n",
    "train_sp_T = train_sp.T\n",
    "for it in [20]:\n",
    "    start_time = time.time()\n",
    "    model = implicit.als.AlternatingLeastSquares(factors=20, iterations=it, calculate_training_loss=True)\n",
    "    model.fit(train_sp)\n",
    "    all_score = []\n",
    "    all_ans = []\n",
    "    for u in range(len(user_ids)):\n",
    "        #print(u)\n",
    "        pred = []\n",
    "        rec = [i[0] for i in model.recommend(u, train_sp_T, 2000, filter_already_liked_items=True)]\n",
    "        filtered_rec = [i for i in rec if train_data[i][u] == 0]\n",
    "        #print(rec)\n",
    "        #print(filtered_rec)\n",
    "        #print(rec)\n",
    "        #print(not_eaten[u])\n",
    "        #print(eaten[u])\n",
    "        #print(\"+++++++++++++++++++++++++++++++++++++++++++++++++++++++++++++++++++++++++++\")\n",
    "        #all_score.append(AveragePrecision(not_eaten[u], rec, 40))\n",
    "        all_ans.append(filtered_rec[:20])\n",
    "    \n",
    "    #ap_valid.append(np.array(all_score).mean())\n",
    "    \n",
    "    with open(\"pred.csv\", 'w') as f:\n",
    "        f.write(\"userid,foodid\\n\")\n",
    "        for i in range(len(user_ids)):\n",
    "            f.write(\"{},\".format(user_ids[i]))\n",
    "            for j in all_ans[i]:\n",
    "                f.write(\"{} \".format(j))\n",
    "            f.write('\\n')\n",
    "    \n",
    "    #print(\"iter {0}; ap: {1:.5f}; time: {2:.2f}\".format(it, ap_valid[-1], time.time()-start_time))"
   ]
  },
  {
   "cell_type": "code",
   "execution_count": 154,
   "metadata": {},
   "outputs": [
    {
     "data": {
      "text/plain": [
       "(2608, 20)"
      ]
     },
     "execution_count": 154,
     "metadata": {},
     "output_type": "execute_result"
    }
   ],
   "source": [
    "np.array(all_ans).shape"
   ]
  },
  {
   "cell_type": "code",
   "execution_count": 146,
   "metadata": {},
   "outputs": [
    {
     "data": {
      "text/plain": [
       "1.0"
      ]
     },
     "execution_count": 146,
     "metadata": {},
     "output_type": "execute_result"
    }
   ],
   "source": [
    "train_data[0][212]"
   ]
  },
  {
   "cell_type": "code",
   "execution_count": 156,
   "metadata": {},
   "outputs": [
    {
     "name": "stdout",
     "output_type": "stream",
     "text": [
      "100%|████████████████████████████████████████| 206k/206k [00:09<00:00, 22.7kB/s]\n",
      "Successfully submitted to NTU CSIE SDML: HW 2 - Task 1fileName               date                 description                        s\n",
      "tatus    publicScore  privateScore  \n",
      "---------------------  -------------------  ---------------------------------  -\n",
      "-------  -----------  ------------  \n",
      "pred.csv               2018-11-08 07:07:34  implicit 20                        c\n",
      "omplete  0.04279      0.04375       \n",
      "pred.csv               2018-11-08 04:13:36  implicit 100                       c\n",
      "omplete  0.00031      0.00036       \n",
      "submit.csv             2018-11-07 17:47:56  Neumf bpr                          c\n",
      "omplete  0.04165      0.03986       \n",
      "submit.csv             2018-11-07 15:57:44  gmf bpr                            c\n",
      "omplete  0.04128      0.03977       \n",
      "submit.csv             2018-11-07 15:15:17  gmf bpr                            c\n",
      "omplete  0.04038      0.03920       \n",
      "mDAE1.csv              2018-11-07 14:23:50  VVVVVVVVVVVVVVVVVVVVVVVVVVVVVVVAE  c\n",
      "omplete  0.04828      0.04818       \n",
      "submit.csv             2018-11-07 14:18:42  mf explicit                        c\n",
      "omplete  0.02525      0.02343       \n",
      "submit.csv             2018-11-07 12:25:54  mlp bpr                            c\n",
      "omplete  0.04115      0.03921       \n",
      "submit.csv             2018-11-07 11:50:32  SVD                                c\n",
      "omplete  0.03063      0.02920       \n",
      "submit.csv             2018-11-07 11:47:20  mf bpr                             c\n",
      "\u001b[Km--More--\u001b[m\n"
     ]
    }
   ],
   "source": [
    "import time\n",
    "#!kaggle competitions submit -c ntucsie-sdml2018-2-1 -f pred.csv -m \"implicit 20\"\n",
    "time.sleep(5)\n",
    "!kaggle competitions submissions ntucsie-sdml2018-2-1 | more"
   ]
  },
  {
   "cell_type": "code",
   "execution_count": 92,
   "metadata": {},
   "outputs": [
    {
     "data": {
      "text/plain": [
       "5531"
      ]
     },
     "execution_count": 92,
     "metadata": {},
     "output_type": "execute_result"
    }
   ],
   "source": [
    "recommendations = model.recommend(800, train_sp, 8000)\n",
    "np.array([i[0] for i in recommendations]).max()"
   ]
  },
  {
   "cell_type": "code",
   "execution_count": 82,
   "metadata": {},
   "outputs": [
    {
     "data": {
      "text/plain": [
       "158"
      ]
     },
     "execution_count": 82,
     "metadata": {},
     "output_type": "execute_result"
    }
   ],
   "source": [
    "len(eaten[0])"
   ]
  },
  {
   "cell_type": "markdown",
   "metadata": {},
   "source": [
    "## Inference"
   ]
  },
  {
   "cell_type": "code",
   "execution_count": null,
   "metadata": {},
   "outputs": [],
   "source": [
    "all_ans = []\n",
    "for i, u in enumerate((user_ids)):\n",
    "    ans = []\n",
    "    rec = [i[0] for i in model.recommend(i, train_sp_T, 20)]\n",
    "    all_score.append(AveragePrecision(not_eaten[u], ans, 20))\n",
    "    all_ans.append(ans) "
   ]
  },
  {
   "cell_type": "code",
   "execution_count": null,
   "metadata": {},
   "outputs": [],
   "source": [
    "np.array(all_score).max()"
   ]
  },
  {
   "cell_type": "markdown",
   "metadata": {},
   "source": [
    "## Generate Output"
   ]
  },
  {
   "cell_type": "code",
   "execution_count": null,
   "metadata": {},
   "outputs": [],
   "source": [
    "with open(\"pred.csv\", 'w') as f:\n",
    "    f.write(\"userid,foodid\\n\")\n",
    "    for i in range(len(user_ids)):\n",
    "        f.write(\"{},\".format(user_ids[i]))\n",
    "        for j in all_ans[i]:\n",
    "            f.write(\"{} \".format(j))\n",
    "        f.write('\\n')"
   ]
  }
 ],
 "metadata": {
  "kernelspec": {
   "display_name": "Python 3",
   "language": "python",
   "name": "python3"
  },
  "language_info": {
   "codemirror_mode": {
    "name": "ipython",
    "version": 3
   },
   "file_extension": ".py",
   "mimetype": "text/x-python",
   "name": "python",
   "nbconvert_exporter": "python",
   "pygments_lexer": "ipython3",
   "version": "3.5.2"
  }
 },
 "nbformat": 4,
 "nbformat_minor": 2
}
