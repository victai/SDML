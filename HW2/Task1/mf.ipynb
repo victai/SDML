{
 "cells": [
  {
   "cell_type": "code",
   "execution_count": 3,
   "metadata": {},
   "outputs": [],
   "source": [
    "import pickle\n",
    "import pandas as pd\n",
    "import numpy as np"
   ]
  },
  {
   "cell_type": "code",
   "execution_count": 4,
   "metadata": {},
   "outputs": [],
   "source": [
    "df_rate = pd.read_csv(\"data/rating_train.csv\")\n",
    "df = df_rate.drop(\"date\", axis=1)\n",
    "df = df.drop_duplicates()\n",
    "df['label'] = 1"
   ]
  },
  {
   "cell_type": "code",
   "execution_count": 3,
   "metadata": {},
   "outputs": [],
   "source": [
    "%store -r eaten_dict\n",
    "%store -r val_dict"
   ]
  },
  {
   "cell_type": "code",
   "execution_count": 4,
   "metadata": {},
   "outputs": [],
   "source": [
    "def predict(userid):\n",
    "    dense = model.user_embed.weight.detach().cpu().numpy() @ model.food_embed.weight.detach().cpu().numpy().T\n",
    "    rank = 0\n",
    "    rank += dense[userid]\n",
    "    rank += model.food_bias.weight.detach().cpu().numpy().flatten()\n",
    "    rank = np.argsort(rank)[::-1]\n",
    "    already_have = eaten_dict[userid]\n",
    "    y_pred = []\n",
    "    for j in rank:\n",
    "        if j not in already_have:\n",
    "            y_pred.append(j)\n",
    "        if len(y_pred) >= 20:\n",
    "            break\n",
    "    return y_pred"
   ]
  },
  {
   "cell_type": "code",
   "execution_count": 5,
   "metadata": {},
   "outputs": [],
   "source": [
    "def cal(M):\n",
    "    \n",
    "    dense = model.user_embed.weight.detach().cpu().numpy() @ model.food_embed.weight.detach().cpu().numpy().T\n",
    "    score = []\n",
    "    for i in df.userid.unique():\n",
    "        userid = i\n",
    "        already_have = eaten_dict[userid]\n",
    "        y_true = val_dict[userid]\n",
    "        y_pred = []\n",
    "        \n",
    "        rank = 0\n",
    "        rank += dense[userid]\n",
    "        rank += M.food_bias.weight.detach().cpu().numpy().flatten()\n",
    "        rank = np.argsort(rank)[::-1]\n",
    "        \n",
    "        for j in rank:\n",
    "            if j not in already_have:\n",
    "                y_pred.append(j)\n",
    "            if len(y_pred) >= 20:\n",
    "                break\n",
    "\n",
    "        assert not len(set(y_pred) & set(already_have))\n",
    "        s = apk(y_true, list(y_pred), 20)\n",
    "        score.append(s)\n",
    "        \n",
    "\n",
    "    return np.mean(score)"
   ]
  },
  {
   "cell_type": "markdown",
   "metadata": {},
   "source": [
    "# model"
   ]
  },
  {
   "cell_type": "code",
   "execution_count": 6,
   "metadata": {},
   "outputs": [],
   "source": [
    "import torch\n",
    "import torch.nn as nn\n",
    "import torch.nn.functional as F\n",
    "from torch.utils.data import DataLoader, TensorDataset"
   ]
  },
  {
   "cell_type": "code",
   "execution_count": 7,
   "metadata": {},
   "outputs": [],
   "source": [
    "train_loader = DataLoader(\n",
    "        dataset=TensorDataset(\n",
    "            torch.from_numpy(df.userid.values),\n",
    "            torch.from_numpy(df.foodid.values),\n",
    "            torch.from_numpy(df.label.values)),\n",
    "        batch_size=1024,\n",
    "        shuffle=True,\n",
    "        num_workers=8)"
   ]
  },
  {
   "cell_type": "code",
   "execution_count": 8,
   "metadata": {},
   "outputs": [],
   "source": [
    "from sklearn.preprocessing import scale\n",
    "food_count = np.zeros((df.foodid.max()+1))\n",
    "for i, j in zip(df.foodid.value_counts().index.values, df.foodid.value_counts().values):\n",
    "    food_count[i] = j\n",
    "food_count = scale(food_count)\n",
    "\n",
    "user_count = np.zeros((df_rate.userid.max()+1))\n",
    "for i, j in zip(df_rate.userid.value_counts().index.values, df_rate.userid.value_counts().values):\n",
    "    user_count[i] = j\n",
    "user_count = scale(user_count)"
   ]
  },
  {
   "cell_type": "code",
   "execution_count": 9,
   "metadata": {},
   "outputs": [],
   "source": [
    "class Model(nn.Module):\n",
    "    def __init__(self, user_size, food_size, hidden=10, global_mean=0):\n",
    "        super(Model, self).__init__()\n",
    "        self.user_embed = nn.Embedding(user_size, hidden, padding_idx=0)\n",
    "        self.food_embed = nn.Embedding(food_size, hidden, padding_idx=0)\n",
    "        self.user_bias = nn.Embedding(user_size, 1, padding_idx=0)\n",
    "        self.food_bias = nn.Embedding(food_size, 1, padding_idx=0)\n",
    "        \n",
    "        self.global_mean = global_mean\n",
    "        self.user_bias.weight.data.fill_(0)\n",
    "        self.food_bias.weight.data.fill_(0)\n",
    "        nn.init.xavier_uniform_(self.user_embed.weight)\n",
    "        nn.init.xavier_uniform_(self.food_embed.weight)\n",
    "        \n",
    "    \n",
    "    def forward(self, user, food, test=False):\n",
    "        u = self.user_embed(user)\n",
    "        u_b = self.user_bias(user).squeeze()\n",
    "        b = self.food_embed(food)\n",
    "        b_b = self.food_bias(food).squeeze()\n",
    "        output = (u*b).sum(1) + u_b + b_b + self.global_mean\n",
    "        if test:\n",
    "            return output\n",
    "        lamb = 0.01\n",
    "        reg1 = lamb * torch.norm(torch.cat([x.view(-1) for x in self.parameters()]), 1)\n",
    "        reg2 = lamb * torch.norm(torch.cat([x.view(-1) for x in self.parameters()]), 2)\n",
    "        return output, reg1+reg2"
   ]
  },
  {
   "cell_type": "code",
   "execution_count": 10,
   "metadata": {},
   "outputs": [],
   "source": [
    "model = Model(\n",
    "        user_size=int(df.userid.max()+1),\n",
    "        food_size=int(df.foodid.max()+1),\n",
    "        global_mean=df.label.mean().item()).cuda()\n",
    "\n",
    "opt_u = torch.optim.Adam(list(model.user_embed.parameters()), lr=0.01, amsgrad=True)\n",
    "opt_f = torch.optim.Adam(list(model.food_embed.parameters()), lr=0.01, amsgrad=True)\n",
    "opt_b = torch.optim.Adam(list(model.food_bias.parameters())+list(model.user_bias.parameters()), lr=0.001, amsgrad=True)"
   ]
  },
  {
   "cell_type": "code",
   "execution_count": 11,
   "metadata": {
    "scrolled": true
   },
   "outputs": [
    {
     "name": "stdout",
     "output_type": "stream",
     "text": [
      "Epoch: 0\n",
      "0.035475911744778585\n",
      "Epoch: 1\n",
      "0.03846926822474494\n",
      "Epoch: 2\n",
      "0.039174650582575146\n",
      "Epoch: 3\n",
      "0.039254666672694706\n",
      "Epoch: 4\n",
      "0.039431061235198364\n",
      "Epoch: 5\n",
      "0.03955615908075906\n",
      "Epoch: 6\n",
      "0.03956886698120877\n",
      "Epoch: 7\n",
      "0.03961175422778148\n",
      "Epoch: 8\n",
      "0.03964961839333488\n",
      "Epoch: 9\n",
      "0.03968965972646005\n",
      "Epoch: 10\n",
      "0.039760064847000405\n",
      "Epoch: 11\n",
      "0.03972770474877665\n",
      "Epoch: 12\n",
      "0.03967539965173022\n",
      "Epoch: 13\n",
      "0.03975505697681986\n",
      "Epoch: 14\n",
      "0.03971959787886967\n",
      "Epoch: 15\n",
      "0.0397371921793029\n",
      "Epoch: 16\n",
      "0.03972421985697998\n",
      "Epoch: 17\n",
      "0.03980516707588773\n",
      "Epoch: 18\n",
      "0.03981643950131006\n",
      "Epoch: 19\n",
      "0.039847266026262186\n",
      "Epoch: 20\n",
      "0.039846297826978995\n",
      "Epoch: 21\n",
      "0.03987943624105102\n",
      "Epoch: 22\n",
      "0.03986398545298272\n",
      "Epoch: 23\n",
      "0.03986461185183799\n",
      "Epoch: 24\n",
      "0.03986672758605897\n",
      "Epoch: 25\n",
      "0.039766449199549185\n",
      "Epoch: 26\n",
      "0.039751421672502944\n",
      "Epoch: 27\n",
      "0.03977101708738424\n",
      "Epoch: 28\n",
      "0.039750394830654394\n",
      "Epoch: 29\n",
      "0.039756907461905265\n"
     ]
    }
   ],
   "source": [
    "for epoch in range(30):\n",
    "    print('Epoch:', epoch)\n",
    "    total_loss = []\n",
    "    for i ,(user, food, rate) in enumerate(train_loader):\n",
    "        user, food, rate = user.cuda(), food.cuda(), rate.cuda().float()\n",
    "        output, regu_loss = model(user, food)\n",
    "\n",
    "        \n",
    "        loss = F.kl_div(output, rate, size_average=False) + regu_loss\n",
    "        total_loss.append(loss.item())\n",
    "\n",
    "        opt_u.zero_grad()\n",
    "        opt_f.zero_grad()\n",
    "        opt_b.zero_grad()\n",
    "        loss.backward()\n",
    "        opt_u.step()\n",
    "        opt_f.step()\n",
    "        opt_b.step()\n",
    "    \n",
    "\n",
    "    print(\"MAP@20 : \", cal(model))"
   ]
  },
  {
   "cell_type": "markdown",
   "metadata": {},
   "source": [
    "# submit"
   ]
  },
  {
   "cell_type": "raw",
   "metadata": {
    "collapsed": true
   },
   "source": [
    "submit = pd.DataFrame()\n",
    "submit[\"userid\"] = [user2old[i] for i in range(2608)]\n",
    "\n",
    "preds = []\n",
    "for i in range(2608):\n",
    "    pred = m.predict(i)\n",
    "    pred = \" \".join([str(food2old[j]) for j in pred])\n",
    "    preds.append(pred)\n",
    "submit[\"foodid\"] = preds\n",
    "submit.to_csv(\"submit.csv\", index=False)\n",
    "    \n",
    "\n",
    "call([\"kaggle\", \"competitions\", \"submit\", \"-c\", \"ntucsie-sdml2018-1-3\", \"-f\", \"pred.txt.csv\", \"-m\", \"fuck\"])\n",
    "time.sleep(5)\n",
    "!kaggle competitions submissions ntucsie-sdml2018-1-3 | head -n 10"
   ]
  }
 ],
 "metadata": {
  "kernelspec": {
   "display_name": "Python 3",
   "language": "python",
   "name": "python3"
  },
  "language_info": {
   "codemirror_mode": {
    "name": "ipython",
    "version": 3
   },
   "file_extension": ".py",
   "mimetype": "text/x-python",
   "name": "python",
   "nbconvert_exporter": "python",
   "pygments_lexer": "ipython3",
   "version": "3.5.2"
  }
 },
 "nbformat": 4,
 "nbformat_minor": 2
}
