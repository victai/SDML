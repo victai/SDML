{
 "cells": [
  {
   "cell_type": "code",
   "execution_count": 1,
   "metadata": {},
   "outputs": [],
   "source": [
    "import pandas as pd\n",
    "import numpy as np"
   ]
  },
  {
   "cell_type": "code",
   "execution_count": 2,
   "metadata": {},
   "outputs": [
    {
     "ename": "ImportError",
     "evalue": "No module named 'spotlight'",
     "output_type": "error",
     "traceback": [
      "\u001b[0;31m---------------------------------------------------------------------------\u001b[0m",
      "\u001b[0;31mImportError\u001b[0m                               Traceback (most recent call last)",
      "\u001b[0;32m<ipython-input-2-0e7de51bed59>\u001b[0m in \u001b[0;36m<module>\u001b[0;34m()\u001b[0m\n\u001b[0;32m----> 1\u001b[0;31m \u001b[0;32mimport\u001b[0m \u001b[0mspotlight\u001b[0m\u001b[0;34m\u001b[0m\u001b[0m\n\u001b[0m",
      "\u001b[0;31mImportError\u001b[0m: No module named 'spotlight'"
     ]
    }
   ],
   "source": [
    "import spotlight"
   ]
  },
  {
   "cell_type": "code",
   "execution_count": 2,
   "metadata": {},
   "outputs": [],
   "source": [
    "df_rate = pd.read_csv(\"data/rating_train.csv\")\n",
    "df = df_rate.drop(\"date\", axis=1)\n",
    "df = df.drop_duplicates()\n",
    "df['label'] = 1"
   ]
  },
  {
   "cell_type": "code",
   "execution_count": 3,
   "metadata": {},
   "outputs": [],
   "source": [
    "food_count = np.zeros((df.foodid.max()+1))\n",
    "for i, j in zip(df.foodid.value_counts().index.values, df.foodid.value_counts().values):\n",
    "    food_count[i] = j\n",
    "\n",
    "user_count = np.zeros((df_rate.userid.max()+1))\n",
    "for i, j in zip(df_rate.userid.value_counts().index.values, df_rate.userid.value_counts().values):\n",
    "    user_count[i] = j\n",
    "\n",
    "eaten = {i:set() for i in df_rate.userid}\n",
    "for u, f in zip(df_rate.userid, df_rate.foodid):\n",
    "    eaten[u].add(f)\n",
    "    \n",
    "user_food_cnt = [{} for i in range(len(user_count))]\n",
    "for u, f in zip(df_rate.userid, df_rate.foodid):\n",
    "    if user_food_cnt[u].get(f) != None:\n",
    "        user_food_cnt[u][f] += 1\n",
    "    else:\n",
    "        user_food_cnt[u][f] = 1"
   ]
  },
  {
   "cell_type": "code",
   "execution_count": 6,
   "metadata": {},
   "outputs": [],
   "source": [
    "u_f_mat = np.zeros((len(df_rate.userid.drop_duplicates()), len(df_rate.foodid.drop_duplicates())+1))"
   ]
  },
  {
   "cell_type": "code",
   "execution_count": 22,
   "metadata": {},
   "outputs": [],
   "source": [
    "user_ids = df_rate.userid.drop_duplicates().values\n",
    "for u in df_rate.userid.drop_duplicates():\n",
    "    mapped_id = np.where(user_ids==u)[0][0]\n",
    "    for k, v in user_food_cnt[u].items():\n",
    "        u_f_mat[mapped_id][k+1] = v\n",
    "    u_f_mat[mapped_id] /= np.max(u_f_mat[mapped_id])"
   ]
  },
  {
   "cell_type": "code",
   "execution_count": 25,
   "metadata": {},
   "outputs": [],
   "source": [
    "import pickle\n",
    "with open(\"caser_pytorch/user_food_cnt.pkl\", \"wb\") as f:\n",
    "    pickle.dump(u_f_mat, f)"
   ]
  },
  {
   "cell_type": "code",
   "execution_count": 61,
   "metadata": {},
   "outputs": [
    {
     "name": "stdout",
     "output_type": "stream",
     "text": [
      "[2, 18, 10, 0, 11, 39, 3, 13, 27, 19, 7, 12, 1, 5, 6, 38, 15, 67, 9, 42]\n",
      "[230, 224, 192, 178, 294, 212, 577, 322, 395, 435]\n"
     ]
    }
   ],
   "source": [
    "all_ans = []\n",
    "food_id_descent = df.foodid.value_counts().index.values\n",
    "for u in df.userid.drop_duplicates():\n",
    "    sorted_D = sorted(user_food_cnt[u].items(), key=lambda d: d[1], reverse=True)\n",
    "    u_eaten = [x[0] for x in sorted_D[:20]]\n",
    "    u_not_eaten = [i for i in food_id_descent if i not in eaten[u]]\n",
    "    if u==6:\n",
    "        print(u_eaten)\n",
    "        print(u_not_eaten[:10])\n",
    "    ans = []\n",
    "    ans.extend(u_eaten[:15])\n",
    "    next_idx = 0\n",
    "    for i, j in enumerate(u_not_eaten):\n",
    "        if len(ans) >= 20: break\n",
    "        if j in u_eaten: continue\n",
    "        ans.append(j)\n",
    "        next_idx = i+1\n",
    "    #ans.extend(u_eaten[5:])\n",
    "    #for j in u_not_eaten[next_idx:]:\n",
    "    #    if len(ans) >= 20: break\n",
    "    #    if j in u_eaten: continue\n",
    "    #    ans.append(j)\n",
    "    all_ans.append(ans)"
   ]
  },
  {
   "cell_type": "code",
   "execution_count": 62,
   "metadata": {},
   "outputs": [
    {
     "name": "stdout",
     "output_type": "stream",
     "text": [
      "[2, 18, 10, 0, 11, 39, 3, 13, 27, 19, 7, 12, 1, 5, 6, 230, 224, 192, 178, 294]\n"
     ]
    }
   ],
   "source": [
    "print(all_ans[0])"
   ]
  },
  {
   "cell_type": "code",
   "execution_count": 49,
   "metadata": {},
   "outputs": [
    {
     "data": {
      "text/plain": [
       "[2, 18, 10, 0, 11, 39, 3, 13, 27, 19, 7, 12, 1, 5, 6, 38, 15, 67, 9, 42]"
      ]
     },
     "execution_count": 49,
     "metadata": {},
     "output_type": "execute_result"
    }
   ],
   "source": [
    "all_ans[0]"
   ]
  },
  {
   "cell_type": "code",
   "execution_count": 45,
   "metadata": {},
   "outputs": [
    {
     "name": "stdout",
     "output_type": "stream",
     "text": [
      "[2, 18, 10, 0, 11, 230, 224, 192, 178, 294, 39, 3, 13, 27, 19, 212, 577, 322, 395, 435]\n"
     ]
    }
   ],
   "source": [
    "print(all_ans[0])"
   ]
  },
  {
   "cell_type": "code",
   "execution_count": 63,
   "metadata": {},
   "outputs": [],
   "source": [
    "with open(\"submission.csv\", \"w\") as f:\n",
    "    f.write(\"userid,foodid\\n\")\n",
    "    for i, u in enumerate(df.userid.drop_duplicates()):\n",
    "        f.write(\"{},\".format(u))\n",
    "        for j in all_ans[i]:\n",
    "            f.write(\"{} \".format(j))\n",
    "        f.write('\\n')"
   ]
  },
  {
   "cell_type": "code",
   "execution_count": 65,
   "metadata": {},
   "outputs": [
    {
     "name": "stdout",
     "output_type": "stream",
     "text": [
      "fileName        date                 description                     status    publicScore  privateScore  \n",
      "--------------  -------------------  ------------------------------  --------  -----------  ------------  \n",
      "submission.csv  2018-10-25 17:13:27  15 eaten; 5 not                 complete  0.27402      None          \n",
      "submission.csv  2018-10-25 17:04:18  20 eaten                        complete  0.28731      None          \n",
      "submission.csv  2018-10-25 16:59:47  5 eaten; 5 not; 5 eaten; 5 not  complete  0.22852      None          \n",
      "submission.csv  2018-10-25 16:33:48  most frequent                   complete  0.00371      None          \n",
      "baseline.csv    2018-10-25 14:08:56  None                            complete  0.00371      None          \n",
      "\n"
     ]
    }
   ],
   "source": [
    "import time\n",
    "#!kaggle competitions submit -c ntucsie-sdml2018-2-2 -f submission.csv -m \"15 eaten; 5 not\"\n",
    "#time.sleep(5)\n",
    "!kaggle competitions submissions ntucsie-sdml2018-2-2 | more"
   ]
  }
 ],
 "metadata": {
  "kernelspec": {
   "display_name": "Python 3",
   "language": "python",
   "name": "python3"
  },
  "language_info": {
   "codemirror_mode": {
    "name": "ipython",
    "version": 3
   },
   "file_extension": ".py",
   "mimetype": "text/x-python",
   "name": "python",
   "nbconvert_exporter": "python",
   "pygments_lexer": "ipython3",
   "version": "3.5.2"
  }
 },
 "nbformat": 4,
 "nbformat_minor": 2
}
